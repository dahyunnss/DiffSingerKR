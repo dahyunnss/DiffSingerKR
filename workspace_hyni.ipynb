{
 "cells": [
  {
   "cell_type": "code",
   "execution_count": 1,
   "metadata": {},
   "outputs": [
    {
     "name": "stdout",
     "output_type": "stream",
     "text": [
      "dict_keys(['Model', 'Optimizer', 'Scheduler', 'Steps'])\n",
      "dict_keys(['DiffSVS'])\n"
     ]
    }
   ],
   "source": [
    "import torch\n",
    "\n",
    "state_dict = torch.load('results/Checkpoint/S_200000.pt', map_location=torch.device('cpu'))\n",
    "print(state_dict.keys())  # 체크포인트의 최상위 키들을 출력\n",
    "print(state_dict.get('Model', {}).keys())  # 'Model' 키가 있다면 그 안의 키들을 출력\n"
   ]
  }
 ],
 "metadata": {
  "kernelspec": {
   "display_name": "DiffSinger",
   "language": "python",
   "name": "python3"
  },
  "language_info": {
   "codemirror_mode": {
    "name": "ipython",
    "version": 3
   },
   "file_extension": ".py",
   "mimetype": "text/x-python",
   "name": "python",
   "nbconvert_exporter": "python",
   "pygments_lexer": "ipython3",
   "version": "3.10.0"
  }
 },
 "nbformat": 4,
 "nbformat_minor": 2
}
